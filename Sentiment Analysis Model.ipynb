{
  "cells": [
    {
      "cell_type": "code",
      "execution_count": null,
      "metadata": {
        "colab": {
          "base_uri": "https://localhost:8080/"
        },
        "id": "d6PhjBYbZQr9",
        "outputId": "85b4579d-b9fb-4157-edf8-36f0f2566fa5"
      },
      "outputs": [
        {
          "name": "stdout",
          "output_type": "stream",
          "text": [
            "Epoch 1/20\n",
            "313/313 [==============================] - 104s 303ms/step - loss: 0.3932 - accuracy: 0.8076 - val_loss: 0.2947 - val_accuracy: 0.8799 - lr: 0.0010\n",
            "Epoch 2/20\n",
            "313/313 [==============================] - 92s 294ms/step - loss: 0.1786 - accuracy: 0.9356 - val_loss: 0.2991 - val_accuracy: 0.8844 - lr: 0.0010\n",
            "Epoch 3/20\n",
            "313/313 [==============================] - 100s 319ms/step - loss: 0.0832 - accuracy: 0.9736 - val_loss: 0.4278 - val_accuracy: 0.8670 - lr: 0.0010\n",
            "Epoch 4/20\n",
            "313/313 [==============================] - 99s 316ms/step - loss: 0.0247 - accuracy: 0.9935 - val_loss: 0.5062 - val_accuracy: 0.8845 - lr: 2.0000e-04\n",
            "625/625 [==============================] - 25s 38ms/step\n"
          ]
        },
        {
          "name": "stderr",
          "output_type": "stream",
          "text": [
            "/usr/local/lib/python3.10/dist-packages/sklearn/utils/validation.py:1143: DataConversionWarning: A column-vector y was passed when a 1d array was expected. Please change the shape of y to (n_samples, ), for example using ravel().\n",
            "  y = column_or_1d(y, warn=True)\n"
          ]
        },
        {
          "name": "stdout",
          "output_type": "stream",
          "text": [
            "157/157 [==============================] - 7s 36ms/step\n",
            "Epoch 1/20\n",
            "313/313 [==============================] - 110s 320ms/step - loss: 0.3980 - accuracy: 0.8038 - val_loss: 0.2790 - val_accuracy: 0.8862 - lr: 0.0010\n",
            "Epoch 2/20\n",
            "313/313 [==============================] - 97s 311ms/step - loss: 0.1757 - accuracy: 0.9367 - val_loss: 0.3737 - val_accuracy: 0.8565 - lr: 0.0010\n",
            "Epoch 3/20\n",
            "313/313 [==============================] - 92s 293ms/step - loss: 0.0801 - accuracy: 0.9735 - val_loss: 0.3620 - val_accuracy: 0.8768 - lr: 0.0010\n",
            "Epoch 4/20\n",
            "313/313 [==============================] - 92s 294ms/step - loss: 0.0211 - accuracy: 0.9950 - val_loss: 0.5050 - val_accuracy: 0.8848 - lr: 2.0000e-04\n",
            "625/625 [==============================] - 25s 38ms/step\n"
          ]
        },
        {
          "name": "stderr",
          "output_type": "stream",
          "text": [
            "/usr/local/lib/python3.10/dist-packages/sklearn/utils/validation.py:1143: DataConversionWarning: A column-vector y was passed when a 1d array was expected. Please change the shape of y to (n_samples, ), for example using ravel().\n",
            "  y = column_or_1d(y, warn=True)\n"
          ]
        },
        {
          "name": "stdout",
          "output_type": "stream",
          "text": [
            "157/157 [==============================] - 8s 40ms/step\n",
            "Epoch 1/20\n",
            "313/313 [==============================] - 110s 321ms/step - loss: 0.3863 - accuracy: 0.8193 - val_loss: 0.2715 - val_accuracy: 0.8887 - lr: 0.0010\n",
            "Epoch 2/20\n",
            "313/313 [==============================] - 94s 300ms/step - loss: 0.1844 - accuracy: 0.9333 - val_loss: 0.2860 - val_accuracy: 0.8895 - lr: 0.0010\n",
            "Epoch 3/20\n",
            "313/313 [==============================] - 95s 305ms/step - loss: 0.0888 - accuracy: 0.9703 - val_loss: 0.3729 - val_accuracy: 0.8741 - lr: 0.0010\n",
            "Epoch 4/20\n",
            "313/313 [==============================] - 95s 304ms/step - loss: 0.0200 - accuracy: 0.9949 - val_loss: 0.5047 - val_accuracy: 0.8838 - lr: 2.0000e-04\n",
            "625/625 [==============================] - 25s 38ms/step\n"
          ]
        },
        {
          "name": "stderr",
          "output_type": "stream",
          "text": [
            "/usr/local/lib/python3.10/dist-packages/sklearn/utils/validation.py:1143: DataConversionWarning: A column-vector y was passed when a 1d array was expected. Please change the shape of y to (n_samples, ), for example using ravel().\n",
            "  y = column_or_1d(y, warn=True)\n"
          ]
        },
        {
          "name": "stdout",
          "output_type": "stream",
          "text": [
            "157/157 [==============================] - 7s 35ms/step\n",
            "Epoch 1/20\n",
            "313/313 [==============================] - 111s 324ms/step - loss: 0.3922 - accuracy: 0.8126 - val_loss: 0.2993 - val_accuracy: 0.8758 - lr: 0.0010\n",
            "Epoch 2/20\n",
            "313/313 [==============================] - 94s 300ms/step - loss: 0.1788 - accuracy: 0.9339 - val_loss: 0.2997 - val_accuracy: 0.8816 - lr: 0.0010\n",
            "Epoch 3/20\n",
            "313/313 [==============================] - 93s 296ms/step - loss: 0.0865 - accuracy: 0.9709 - val_loss: 0.3673 - val_accuracy: 0.8729 - lr: 0.0010\n",
            "Epoch 4/20\n",
            "313/313 [==============================] - 99s 315ms/step - loss: 0.0231 - accuracy: 0.9944 - val_loss: 0.5602 - val_accuracy: 0.8780 - lr: 2.0000e-04\n",
            "625/625 [==============================] - 26s 38ms/step\n"
          ]
        },
        {
          "name": "stderr",
          "output_type": "stream",
          "text": [
            "/usr/local/lib/python3.10/dist-packages/sklearn/utils/validation.py:1143: DataConversionWarning: A column-vector y was passed when a 1d array was expected. Please change the shape of y to (n_samples, ), for example using ravel().\n",
            "  y = column_or_1d(y, warn=True)\n"
          ]
        },
        {
          "name": "stdout",
          "output_type": "stream",
          "text": [
            "157/157 [==============================] - 8s 41ms/step\n",
            "Epoch 1/20\n",
            "313/313 [==============================] - 109s 318ms/step - loss: 0.3924 - accuracy: 0.8109 - val_loss: 0.2774 - val_accuracy: 0.8859 - lr: 0.0010\n",
            "Epoch 2/20\n",
            "313/313 [==============================] - 93s 296ms/step - loss: 0.1834 - accuracy: 0.9350 - val_loss: 0.2789 - val_accuracy: 0.8872 - lr: 0.0010\n",
            "Epoch 3/20\n",
            "313/313 [==============================] - 93s 298ms/step - loss: 0.0889 - accuracy: 0.9718 - val_loss: 0.3775 - val_accuracy: 0.8750 - lr: 0.0010\n",
            "Epoch 4/20\n",
            "313/313 [==============================] - 94s 302ms/step - loss: 0.0250 - accuracy: 0.9936 - val_loss: 0.4442 - val_accuracy: 0.8808 - lr: 2.0000e-04\n",
            "625/625 [==============================] - 27s 40ms/step\n"
          ]
        },
        {
          "name": "stderr",
          "output_type": "stream",
          "text": [
            "/usr/local/lib/python3.10/dist-packages/sklearn/utils/validation.py:1143: DataConversionWarning: A column-vector y was passed when a 1d array was expected. Please change the shape of y to (n_samples, ), for example using ravel().\n",
            "  y = column_or_1d(y, warn=True)\n"
          ]
        },
        {
          "name": "stdout",
          "output_type": "stream",
          "text": [
            "157/157 [==============================] - 8s 42ms/step\n",
            "Mean Validation Accuracy: 0.8885\n"
          ]
        }
      ],
      "source": [
        "from keras.datasets import imdb\n",
        "from keras.utils import pad_sequences\n",
        "from keras.models import Model\n",
        "from keras.layers import Input, Embedding, Dense, Dropout, Conv1D, Bidirectional, GRU, MaxPooling1D\n",
        "from keras.optimizers import Adam\n",
        "from keras.callbacks import EarlyStopping, ReduceLROnPlateau\n",
        "import numpy as np\n",
        "from sklearn.model_selection import StratifiedKFold\n",
        "from sklearn.linear_model import LogisticRegression\n",
        "from sklearn.metrics import accuracy_score\n",
        "\n",
        "# Load the IMDb dataset\n",
        "(X, y), (_, _) = imdb.load_data(num_words=10000)\n",
        "\n",
        "# Pad the sequences\n",
        "X = pad_sequences(X, maxlen=200)\n",
        "\n",
        "# Convert the labels to the correct shape (1D array)\n",
        "y = y.reshape(-1, 1)\n",
        "\n",
        "# Define the K-fold cross-validation\n",
        "kf = StratifiedKFold(n_splits=5, shuffle=True, random_state=42)\n",
        "\n",
        "# Lists to store validation accuracies\n",
        "val_accuracies = []\n",
        "\n",
        "for train_index, val_index in kf.split(X, y):\n",
        "    X_train, X_val = X[train_index], X[val_index]\n",
        "    y_train, y_val = y[train_index], y[val_index]\n",
        "\n",
        "    # Create the Functional model with Conv1D and two Bidirectional GRU layers\n",
        "    input_layer = Input(shape=(200,))\n",
        "    embedding_layer = Embedding(input_dim=10000, output_dim=128, input_length=200)(input_layer)\n",
        "\n",
        "    # Conv1D layer\n",
        "    conv1d_layer = Conv1D(64, kernel_size=5, activation='relu')(embedding_layer)\n",
        "    maxpool_layer = MaxPooling1D(pool_size=4)(conv1d_layer)\n",
        "\n",
        "    # First Bidirectional GRU layer with dropout\n",
        "    bi_gru_layer1 = Bidirectional(GRU(64, return_sequences=True))(maxpool_layer)\n",
        "    dropout_layer1 = Dropout(0.5)(bi_gru_layer1)\n",
        "\n",
        "    # Second Bidirectional GRU layer with dropout\n",
        "    bi_gru_layer2 = Bidirectional(GRU(64, return_sequences=True))(dropout_layer1)\n",
        "    dropout_layer2 = Dropout(0.5)(bi_gru_layer2)\n",
        "\n",
        "    # Output layer for binary classification\n",
        "    output_layer = Dense(1, activation='sigmoid')(dropout_layer2)\n",
        "\n",
        "    model = Model(inputs=input_layer, outputs=output_layer)\n",
        "\n",
        "    model.compile(loss='binary_crossentropy', optimizer=Adam(), metrics=['accuracy'])\n",
        "\n",
        "    # Define early stopping and learning rate scheduling callbacks\n",
        "    early_stopping = EarlyStopping(monitor='val_loss', patience=3, restore_best_weights=True)\n",
        "    reduce_lr = ReduceLROnPlateau(monitor='val_loss', factor=0.2, patience=2, min_lr=1e-6)\n",
        "\n",
        "    # Train the model with early stopping and learning rate scheduling\n",
        "    model.fit(X_train, y_train, epochs=20, batch_size=64, validation_data=(X_val, y_val), callbacks=[early_stopping, reduce_lr])\n",
        "\n",
        "    # Extract features using the Bidirectional GRU layer\n",
        "    bi_gru_features = model.predict(X_train)\n",
        "\n",
        "    # Flatten the features to 2D\n",
        "    num_samples, sequence_length, num_features = bi_gru_features.shape\n",
        "    bi_gru_features_2d = bi_gru_features.reshape(num_samples, sequence_length * num_features)\n",
        "\n",
        "    # Create and fit the logistic regression model\n",
        "    logistic_regression = LogisticRegression(max_iter=1000)\n",
        "    logistic_regression.fit(bi_gru_features_2d, y_train)\n",
        "\n",
        "    # Extract validation features and make predictions using logistic regression\n",
        "    val_bi_gru_features = model.predict(X_val)\n",
        "    val_bi_gru_features_2d = val_bi_gru_features.reshape(val_bi_gru_features.shape[0], sequence_length * num_features)\n",
        "    y_val_pred = logistic_regression.predict(val_bi_gru_features_2d)\n",
        "\n",
        "    # Calculate accuracy\n",
        "    accuracy_lr = accuracy_score(y_val, y_val_pred)\n",
        "    val_accuracies.append(accuracy_lr)\n",
        "\n",
        "# Calculate and print the mean validation accuracy\n",
        "mean_val_accuracy = np.mean(val_accuracies)\n",
        "print(f\"Mean Validation Accuracy: {mean_val_accuracy:.4f}\")"
      ]
    },
    {
      "cell_type": "code",
      "execution_count": null,
      "metadata": {
        "colab": {
          "base_uri": "https://localhost:8080/"
        },
        "id": "oNEo_rOQiSUa",
        "outputId": "a1324899-5be1-4c13-87f4-7aa851bdb4eb"
      },
      "outputs": [
        {
          "name": "stdout",
          "output_type": "stream",
          "text": [
            "Model Performance on test set\n",
            "157/157 [==============================] - 7s 42ms/step - loss: 0.2774 - accuracy: 0.8859\n",
            "{'loss': 0.2774365544319153, 'accuracy': 0.8858940601348877}\n"
          ]
        }
      ],
      "source": [
        "print(\"Model Performance on test set\")\n",
        "result = model.evaluate(X_val, y_val)\n",
        "print(dict(zip(model.metrics_names, result)))"
      ]
    }
  ],
  "metadata": {
    "accelerator": "GPU",
    "colab": {
      "provenance": []
    },
    "kernelspec": {
      "display_name": "Python 3",
      "name": "python3"
    }
  },
  "nbformat": 4,
  "nbformat_minor": 0
}
